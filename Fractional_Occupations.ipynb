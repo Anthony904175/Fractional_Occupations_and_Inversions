{
 "cells": [
  {
   "cell_type": "markdown",
   "metadata": {},
   "source": [
    "# Fractional Occupations in Psi4\n",
    "## Written by: Anthony Osborne\n",
    "For use with the thermal inversion project "
   ]
  },
  {
   "cell_type": "markdown",
   "metadata": {},
   "source": [
    "### Import and Set up Section\n",
    "Memory is likely set way too large but that is safest."
   ]
  },
  {
   "cell_type": "code",
   "execution_count": 1,
   "metadata": {},
   "outputs": [
    {
     "name": "stdout",
     "output_type": "stream",
     "text": [
      "\n",
      "  Memory set to  14.435 GiB by Python driver.\n",
      "  Threads set to 10 by Python driver.\n"
     ]
    }
   ],
   "source": [
    "import psi4\n",
    "import matplotlib.pyplot as plt\n",
    "import numpy as np\n",
    "\n",
    "psi4.set_options({\"save_jk\" : True})\n",
    "psi4.set_memory(int(15.50e9))\n",
    "psi4.set_num_threads(10)\n",
    "psi4.core.clean()\n",
    "\n",
    "import n2v\n",
    "\n",
    "import matplotlib as mpl\n",
    "mpl.rcParams[\"font.size\"] = 11\n",
    "mpl.rcParams[\"font.family\"] = \"sans-serif\"\n",
    "mpl.rcParams[\"axes.edgecolor\"] = \"#eae8e9\" "
   ]
  },
  {
   "cell_type": "markdown",
   "metadata": {},
   "source": [
    "#### Options to turn off parts of code to save time when running entire notebook. Set to True for on and False for off"
   ]
  },
  {
   "cell_type": "code",
   "execution_count": 2,
   "metadata": {},
   "outputs": [],
   "source": [
    "Do_Ou_Carter = False # Option used to determine if The Ou-Carter method is used for n2v Only set up for water at the moment\n",
    "Options_testing = False # Option used to determine if the example fractional occupation is calculated. Leave off unless something major is broken. Might even be better to just remove this cell\n",
    "index_test = False # Option used to determine if Orbitals and their energies are calculated seperately and printed. Leave off unless something major is broken\n",
    "Fermi_Testing = False # Option used to determine if the test for the Fermi_to_Frac function is tested. Leave off unless something major is broken. Again another cell that could possibly be removed\n",
    "Water_testing = True # Option used to determine if fractional occupations for water are to be tested. Turn off to save some time if testing other molecules"
   ]
  },
  {
   "cell_type": "markdown",
   "metadata": {},
   "source": [
    "#### Molecular Set up\n",
    "Can and will define mulitple molecules to be tested."
   ]
  },
  {
   "cell_type": "code",
   "execution_count": 3,
   "metadata": {},
   "outputs": [],
   "source": [
    "#Molecules should all work\n",
    "F = psi4.geometry(\n",
    "    \"\"\"\n",
    "    0 2\n",
    "    F 0.0 0.0 0.0\n",
    "    noreorient\n",
    "    nocom\n",
    "    units bohr\n",
    "    symmetry c1\n",
    "    \"\"\", name=\"F\")\n",
    "H2O = psi4.geometry(\n",
    "    \"\"\"\n",
    "    O\n",
    "    H 1 0.96\n",
    "    H 1 0.96 2 104.5 #what is this here \n",
    "    noreorient\n",
    "    nocom\n",
    "    units bohr\n",
    "    symmetry c1\n",
    "    \"\"\", name=\"Water\")\n",
    "CH4 = psi4.geometry(\n",
    "    \"\"\" \n",
    "    C       -0.70207        1.95893        0.00000\n",
    "    H        0.39013        1.95893       -0.00000\n",
    "    H       -1.06613        1.99095        1.02924\n",
    "    H       -1.06613        1.05158       -0.48689\n",
    "    H       -1.06614        2.83427       -0.54235\n",
    "    noreorient\n",
    "    nocom\n",
    "    units bohr\n",
    "    symmetry c1\n",
    "    \"\"\", name=\"Methane\")\n",
    "CCCC = psi4.geometry(\n",
    "    \"\"\" \n",
    "    C        0.60024       -1.20973        0.11111\n",
    "    C       -0.36574        2.49231        0.54931\n",
    "    C       -1.34777       -0.08504        3.23689\n",
    "    C        2.34127        0.92942        2.79869\n",
    "    noreorient\n",
    "    nocom\n",
    "    units bohr\n",
    "    symmetry c1\n",
    "    \"\"\", name=\"Graphite\")\n",
    "Ne = psi4.geometry(\n",
    "    \"\"\"\n",
    "    0 1\n",
    "    Ne 0.0 0.0 0.0\n",
    "    noreorient\n",
    "    nocom\n",
    "    units bohr\n",
    "    symmetry c1\n",
    "    \"\"\", name=\"Ne\")\n",
    "NH3 =psi4.geometry(\n",
    "    \"\"\"\n",
    "    0 1\n",
    "    N       -0.58187        0.48713       -0.03712\n",
    "    H        0.43546        0.50133        0.01948\n",
    "    H       -0.89347        1.40498        0.27725\n",
    "    H       -0.89347       -0.17373        0.67317\n",
    "    noreorient\n",
    "    nocom\n",
    "    units bohr\n",
    "    symmetry c1\n",
    "    \"\"\", name=\"Ammonia\")\n"
   ]
  },
  {
   "cell_type": "markdown",
   "metadata": {},
   "source": [
    "### Functions Used in the calculations"
   ]
  },
  {
   "cell_type": "markdown",
   "metadata": {},
   "source": [
    "#### Fractional Occupation Options Function"
   ]
  },
  {
   "cell_type": "code",
   "execution_count": 4,
   "metadata": {},
   "outputs": [],
   "source": [
    "def FracOccOpts(Use=bool, testing=bool, Working=bool, frac_occ=None, frac_val=None):\n",
    "    options = {\n",
    "        'basis': 'sto-6g',\n",
    "        'scf_type': 'direct',\n",
    "        'reference': 'uhf',\n",
    "        'df_scf_guess': False,\n",
    "        'e_convergence': 8,\n",
    "        \"opdm\": True,\n",
    "        'tpdm': True,\n",
    "        'DFT_SPHERICAL_POINTS': 74,\n",
    "        'DFT_RADIAL_POINTS': 56,\n",
    "        'MAXITER' : 1500,\n",
    "    }\n",
    "\n",
    "    if Use and testing:\n",
    "        options.update({\n",
    "            'frac_start': 1,\n",
    "            'frac_occ' : [ +3, +4, +5, -3, -4, -5 ],\n",
    "            'frac_val' : [1.0, 1.0, 1.0, 6.666666666666666e-01, 6.666666666666666e-01, 6.666666666666666e-01],\n",
    "        })\n",
    "    if Use and Working:\n",
    "        options.update({\n",
    "            'frac_start': 1,\n",
    "            'frac_occ': frac_occ,\n",
    "            'frac_val': frac_val,\n",
    "        })\n",
    "\n",
    "    psi4.set_options(options)\n"
   ]
  },
  {
   "cell_type": "markdown",
   "metadata": {},
   "source": [
    "#### Fractional Occupation function test"
   ]
  },
  {
   "cell_type": "code",
   "execution_count": 5,
   "metadata": {},
   "outputs": [],
   "source": [
    "dummy_occs = [ +3, +4, +5, +6, -3, -4, -5, -6 ]\n",
    "dummy_vals = [1.0, 1.0, 1.0, 0.5, 6.666666666666666e-01, 6.666666666666666e-01, 6.666666666666666e-01, 0.5]\n",
    "if Options_testing == True:\n",
    "    FracOccOpts(True, False, True, dummy_occs, dummy_vals) # type: ignore #, dummy_occs, dummy_vals) # In order to change from True to False you must restart the kernel\n",
    "    testEnergy, frac_occd_wfn = psi4.energy('svwn/cc-pvtz', molecule=F, return_wfn=True,) # type: ignore\n",
    "    #print(testEnergy)\n",
    "    if testEnergy == -98.91325301570028: # This number came from a Psi4 as an executable run without fractional occupations all other things held constant\n",
    "        print(\"No Fractional Occupations were used. Energy is:\", testEnergy) \n",
    "    else: # This number came from a Psi4 as an executable run with fractional occupations all other things held constant\n",
    "        print(\"Fractional Occupation Occured. Energy is:\", testEnergy)"
   ]
  },
  {
   "cell_type": "markdown",
   "metadata": {},
   "source": [
    "##### Inverting with Fractional occupations test For atoms\n",
    "See [Fluorine and Neon test For Imac](/Users/aosborne3/Desktop/Grad_Research/Code/Examples_Tutorials/Tutorials/PSI4/Fractional_Occupations/Fluorine_N2V_TEST.ipynb)\\\n",
    "See [Fluorine and Neon test For MacBook](/Users/tonyosborne/Desktop/Grad_Research/Code/Examples_Tutorials/Tutorials/PSI4/Fractional_Occupations/Fluorine_N2V_TEST.ipynb)\n",
    "\n"
   ]
  },
  {
   "cell_type": "markdown",
   "metadata": {},
   "source": [
    "#### Thermodynamic Properties function"
   ]
  },
  {
   "cell_type": "code",
   "execution_count": 25,
   "metadata": {},
   "outputs": [],
   "source": [
    "#Thermoproperties function\n",
    "def thermo_prop(wfn, base_energy, temp, press, Spin_mult, molecular_mass, rotational_constants):\n",
    "    data_output = psi4.driver.qcdb.vib.thermo(wfn.frequency_analysis, E0=base_energy, T=temp, P=press, sigma=1, molecular_mass=molecular_mass, multiplicity=Spin_mult, rot_const=rotational_constants)\n",
    "    # Sets first element of data_output as the dictionary and takes care of it\n",
    "    if isinstance(data_output, tuple) and len(data_output) > 0:\n",
    "        data_output = data_output[0]  # Assuming the first element is the dictionary\n",
    "    return data_output"
   ]
  },
  {
   "cell_type": "markdown",
   "metadata": {},
   "source": [
    "#### Chemical potential function"
   ]
  },
  {
   "cell_type": "code",
   "execution_count": 7,
   "metadata": {},
   "outputs": [],
   "source": [
    "def Pressure_Printer(data_set):\n",
    "    P = data_set['P'].data    \n",
    "    print(P)"
   ]
  },
  {
   "cell_type": "code",
   "execution_count": 8,
   "metadata": {},
   "outputs": [],
   "source": [
    "def chemical_potential(data_set, T, print=\"n\"):\n",
    "    R = psi4.constants.R * 2.294e+17\n",
    "    G_tot = data_set['G_tot'].data  # Total Gibbs free energy in Eh\n",
    "    P = data_set['P'].data          # Pressure P in Pa\n",
    "\n",
    "    # Calculate chemical potential\n",
    "    P0 = 100000  #  IUPAC STP pressure in Pa \n",
    "    mu = G_tot + R * T * np.log(P / P0)\n",
    "\n",
    "    \n",
    "\n",
    "    # Optionally, print mu\n",
    "    if print == \"y\":\n",
    "        print(f\"G_tot: {G_tot}\") # type: ignore\n",
    "        print(f\"Chemical potential (mu): {mu} \")  # type: ignore\n",
    "        mu_kcal_per_mol = mu * psi4.constants.hartree2kcalmol\n",
    "        print(f\"Chemical potential (mu): {mu_kcal_per_mol} kcal/mol\")  # type: ignore\n",
    "\n",
    "    return mu\n"
   ]
  },
  {
   "cell_type": "markdown",
   "metadata": {},
   "source": [
    "#### Fermi Weighting function\n",
    "Form of the Fermi weighting is:\n",
    "$f = (1 + e^{(\\epsilon^{\\tau}_i - \\mu^{\\tau})/\\tau})^{-1}$"
   ]
  },
  {
   "cell_type": "code",
   "execution_count": 9,
   "metadata": {},
   "outputs": [
    {
     "name": "stdout",
     "output_type": "stream",
     "text": [
      "For a real temperature of 298.15 K the electronic temperature should be:  0.00094418486750845\n"
     ]
    }
   ],
   "source": [
    "## Converting real temperature to electronic temperature\n",
    "def convert_temp(temp):\n",
    "    K_b = 3.166811563e-6\n",
    "    tau = K_b * temp\n",
    "    return tau\n",
    "\n",
    "temp = 298.15\n",
    "print(\"For a real temperature of\", temp, \"K the electronic temperature should be: \", convert_temp(temp))"
   ]
  },
  {
   "cell_type": "code",
   "execution_count": 10,
   "metadata": {},
   "outputs": [],
   "source": [
    "def fermi_weighting(energy, chemical_potential, temperature):\n",
    "    elec_temp = convert_temp(temperature)\n",
    "    exponent = (energy - chemical_potential)/elec_temp\n",
    "    expoenential = np.exp(exponent)\n",
    "    base = 1 + expoenential\n",
    "    fermi = base**(-1)\n",
    "    return fermi\n"
   ]
  },
  {
   "cell_type": "markdown",
   "metadata": {},
   "source": [
    "#### Getting the Fractional occupation indices"
   ]
  },
  {
   "cell_type": "code",
   "execution_count": 11,
   "metadata": {},
   "outputs": [],
   "source": [
    "def print_orbital_info(wavefunction):\n",
    "    # Get orbital information from wavefunction\n",
    "    orbital_info = wavefunction.epsilon_a().to_array()  # Orbital energies\n",
    "    num_occ = wavefunction.nalpha()  # Number of occupied orbitals\n",
    "    \n",
    "    # Print out occupied orbital indices and energies\n",
    "    print(\"Occupied Orbital Indices and Energies:\")\n",
    "    for i in range(num_occ):\n",
    "        orbital_index = i + 1  # PSI4 uses 1-based indexing for orbitals\n",
    "        orbital_energy = orbital_info[i]\n",
    "        print(f\"Orbital {orbital_index}: Energy = {orbital_energy}\")\n"
   ]
  },
  {
   "cell_type": "markdown",
   "metadata": {},
   "source": [
    "##### Indices testing"
   ]
  },
  {
   "cell_type": "code",
   "execution_count": 12,
   "metadata": {},
   "outputs": [],
   "source": [
    "if index_test == True:\n",
    "    FracOccOpts(False, False, False)  # type: ignore\n",
    "    Molec, name = H2O, \"Water\"\n",
    "    Index_test_frequency, index_test_wfn = psi4.frequency('scf', molecule = Molec, return_wfn = True)\n",
    "    print_orbital_info(index_test_wfn)"
   ]
  },
  {
   "cell_type": "markdown",
   "metadata": {},
   "source": [
    "#### Fermi Weights to Fractional Occupation Values"
   ]
  },
  {
   "cell_type": "code",
   "execution_count": 13,
   "metadata": {},
   "outputs": [],
   "source": [
    "def calc_Fermi_weight(orbital_energies, mu, T):\n",
    "    # Calculate Fermi weightings\n",
    "    fermi_weights = []\n",
    "    for energy in orbital_energies:\n",
    "        f = fermi_weighting(energy, mu, T)\n",
    "        fermi_weights.append(f)\n",
    "    return fermi_weights\n",
    "\n",
    "def fermi_to_frac_val(fermi_weights_list):\n",
    "    frac_val_list = []\n",
    "    for fermi_weights in fermi_weights_list:\n",
    "        frac_val = []\n",
    "        for f in fermi_weights:\n",
    "            if isinstance(f, list):\n",
    "                frac = []\n",
    "                for value in f:\n",
    "                    if value >= 1.0:\n",
    "                        n = 1.0  # Full occupation (positive fraction)\n",
    "                    elif value <= 0.0:\n",
    "                        n = 0.0  # No occupation (zero fraction)\n",
    "                    else:\n",
    "                        n = value  # For weights between 0 and 1, use as-is (positive fraction)\n",
    "                    frac.append(n)\n",
    "                frac_val.append(frac)\n",
    "            else:\n",
    "                if f >= 1.0:\n",
    "                    n = 1.0  # Full occupation (positive fraction)\n",
    "                elif f <= 0.0:\n",
    "                    n = 0.0  # No occupation (zero fraction)\n",
    "                else:\n",
    "                    n = f  # For weights between 0 and 1, use as-is (positive fraction)\n",
    "                frac_val.append(n)\n",
    "        frac_val_list.append(frac_val)\n",
    "    return frac_val_list"
   ]
  },
  {
   "cell_type": "markdown",
   "metadata": {},
   "source": [
    "##### Fermi2Frac testing"
   ]
  },
  {
   "cell_type": "code",
   "execution_count": 14,
   "metadata": {},
   "outputs": [],
   "source": [
    "if Fermi_Testing == True:\n",
    "    # Example Fermi weights lists (multiple arrays)\n",
    "    fermi_weights_list = [\n",
    "        [0.9, 0.8, 1.0],   # Fermi weights for state 1\n",
    "        [0.7, 0.6, 0.5],   # Fermi weights for state 2\n",
    "        [0.95, 0.85, 0.75] # Fermi weights for state 3\n",
    "    ]\n",
    "\n",
    "    # Convert Fermi weights to fractional occupations\n",
    "    frac_occ_list = fermi_to_frac_val(fermi_weights_list)\n",
    "\n",
    "    # Print fractional occupations\n",
    "    for i, frac_occ in enumerate(frac_occ_list):\n",
    "        print(f\"Fractional Occupations for state {i+1}:\")\n",
    "        for j, n in enumerate(frac_occ):\n",
    "            print(f\"  Orbital {j+1}: {n}\")\n"
   ]
  },
  {
   "cell_type": "markdown",
   "metadata": {},
   "source": [
    "#### Printing Function so I don't have to keep copying large cells"
   ]
  },
  {
   "cell_type": "code",
   "execution_count": 15,
   "metadata": {},
   "outputs": [],
   "source": [
    "def print_big_info(orbital_energies, fermi_weights, frac_val_list, print_orb_energies=bool):\n",
    "    if print_orb_energies:\n",
    "        print(\"Orbital energies for each KS State:\")\n",
    "        for i, energy in enumerate(orbital_energies):\n",
    "            print(f\"State {i+1}: {energy} Hartree\")\n",
    "    # Print Fermi weightings\n",
    "    print(\"Fermi weightings for each KS state:\")\n",
    "    for i, f in enumerate(fermi_weights):\n",
    "        print(f\"State {i+1}: f = {f}\")\n",
    "    #Print out fractional occupations\n",
    "    for i, frac_val in enumerate(frac_val_list):\n",
    "        print(f\"Fractional Occupation Values for state {i+1}:\")\n",
    "        for j, n in enumerate(frac_val):\n",
    "            print(f\"  Orbital {j+1}: {n}\")"
   ]
  },
  {
   "cell_type": "markdown",
   "metadata": {},
   "source": [
    "### Regular SCF (No Fractional Occupations) of Water"
   ]
  },
  {
   "cell_type": "markdown",
   "metadata": {},
   "source": [
    "#### Calculating the energy for water"
   ]
  },
  {
   "cell_type": "code",
   "execution_count": 16,
   "metadata": {},
   "outputs": [
    {
     "name": "stdout",
     "output_type": "stream",
     "text": [
      "Warning: thermodynamics relations excluded imaginary frequencies: ['9522.2677i' '9335.0720i' '9208.0889i' '8720.0127i']\n",
      "The total energy of the specified Water molecule is: -74.64686072440504\n"
     ]
    }
   ],
   "source": [
    "FracOccOpts(False, False, False)  # type: ignore\n",
    "Molec, name = H2O, \"Water\"\n",
    "Water_Energy, Water_wfn = psi4.energy(\"svwn/cc-pvtz\", molecule = Molec, return_wfn = True, write_orbitals=('test.dat', True)) # type: ignore\n",
    "Water_frequency, Water_wfn2 = psi4.frequency(\"svwn/cc-pvtz\", molecule = Molec, return_wfn = True)\n",
    "print(\"The total energy of the specified\", name, \"molecule is:\", Water_Energy)"
   ]
  },
  {
   "cell_type": "markdown",
   "metadata": {},
   "source": [
    "#### Using the energy of water to calculate thermodynamic properties \n",
    "then using those properties to calculate the chemical potential and ultimately the Fermi weighting"
   ]
  },
  {
   "cell_type": "code",
   "execution_count": 33,
   "metadata": {},
   "outputs": [
    {
     "name": "stdout",
     "output_type": "stream",
     "text": [
      "Warning: thermodynamics relations excluded imaginary frequencies: ['9522.2677i' '9335.0720i' '9208.0889i' '8720.0127i']\n",
      "\n",
      "  ==> Thermochemistry Components <==\n",
      "\n",
      "  Entropy, S\n",
      "    Electronic S                             0.000 [cal/(mol K)]        0.000 [J/(mol K)]       0.00000000 [mEh/K] (multiplicity = 1)\n",
      "    Translational S                         34.607 [cal/(mol K)]      144.794 [J/(mol K)]       0.05514899 [mEh/K] (mol. weight = 18.0000 [u], P = 101325.00 [Pa])\n",
      "    Rotational S                            11.839 [cal/(mol K)]       49.533 [J/(mol K)]       0.01886621 [mEh/K] (symmetry no. = 1)\n",
      "    Vibrational S                            0.000 [cal/(mol K)]        0.000 [J/(mol K)]       0.00000000 [mEh/K]\n",
      "  Total S                                   46.445 [cal/(mol K)]      194.327 [J/(mol K)]       0.07401520 [mEh/K]\n",
      "  Correction S                               0.000 [cal/(mol K)]        0.000 [J/(mol K)]       0.00000000 [mEh/K]\n",
      "\n",
      "  Constant volume heat capacity, Cv\n",
      "    Electronic Cv                            0.000 [cal/(mol K)]        0.000 [J/(mol K)]       0.00000000 [mEh/K]\n",
      "    Translational Cv                         2.981 [cal/(mol K)]       12.472 [J/(mol K)]       0.00475022 [mEh/K]\n",
      "    Rotational Cv                            2.981 [cal/(mol K)]       12.472 [J/(mol K)]       0.00475022 [mEh/K]\n",
      "    Vibrational Cv                           0.000 [cal/(mol K)]        0.000 [J/(mol K)]       0.00000000 [mEh/K]\n",
      "  Total Cv                                   5.962 [cal/(mol K)]       24.943 [J/(mol K)]       0.00950043 [mEh/K]\n",
      "  Correction Cv                              0.000 [cal/(mol K)]        0.000 [J/(mol K)]       0.00000000 [mEh/K]\n",
      "\n",
      "  Constant pressure heat capacity, Cp\n",
      "    Electronic Cp                            0.000 [cal/(mol K)]        0.000 [J/(mol K)]       0.00000000 [mEh/K]\n",
      "    Translational Cp                         4.968 [cal/(mol K)]       20.786 [J/(mol K)]       0.00791703 [mEh/K]\n",
      "    Rotational Cp                            2.981 [cal/(mol K)]       12.472 [J/(mol K)]       0.00475022 [mEh/K]\n",
      "    Vibrational Cp                           0.000 [cal/(mol K)]        0.000 [J/(mol K)]       0.00000000 [mEh/K]\n",
      "  Total Cp                                   7.949 [cal/(mol K)]       33.258 [J/(mol K)]       0.01266724 [mEh/K]\n",
      "  Correction Cp                              0.000 [cal/(mol K)]        0.000 [J/(mol K)]       0.00000000 [mEh/K]\n",
      "\n",
      "  ==> Thermochemistry Energy Analysis <==\n",
      "\n",
      "  Raw electronic energy, E_e\n",
      "  Total E_e, Electronic energy at well bottom                                           -74.64686072 [Eh]\n",
      "\n",
      "  Zero-point vibrational energy, ZPVE = Sum_i omega_i / 2,  E_0 = E_e + ZPVE\n",
      "    Vibrational ZPVE                        52.189 [kcal/mol]      218.357 [kJ/mol]       0.08316767 [Eh]       18253.195 [cm^-1]\n",
      "  Correction ZPVE to E_e                    52.189 [kcal/mol]      218.357 [kJ/mol]       0.08316767 [Eh]       18253.195 [cm^-1]\n",
      "  Total E_0, Enthalpy at 0 [K]                                                          -74.56369305 [Eh]\n",
      "  *** Absolute enthalpy, not an enthalpy of formation ***\n",
      "\n",
      "  Thermal (internal) energy, E (includes ZPVE and finite-temperature corrections)\n",
      "    Electronic contrib to E beyond E_e       0.000 [kcal/mol]        0.000 [kJ/mol]       0.00000000 [Eh]\n",
      "    Translational contrib to E               0.889 [kcal/mol]        3.718 [kJ/mol]       0.00141628 [Eh]\n",
      "    Rotational contrib to E                  0.889 [kcal/mol]        3.718 [kJ/mol]       0.00141628 [Eh]\n",
      "    Vibrational contrib to E                52.189 [kcal/mol]      218.357 [kJ/mol]       0.08316767 [Eh]\n",
      "  Correction E                              53.966 [kcal/mol]      225.794 [kJ/mol]       0.08600023 [Eh]\n",
      "  Total E, Thermal (internal) energy at  298.15 [K]                                     -74.56086050 [Eh]\n",
      "\n",
      "  Enthalpy, H_trans = E_trans + k_B * T = E_trans + P * V\n",
      "    Electronic contrib to H beyond E_e       0.000 [kcal/mol]        0.000 [kJ/mol]       0.00000000 [Eh]\n",
      "    Translational contrib to H               1.481 [kcal/mol]        6.197 [kJ/mol]       0.00236046 [Eh]\n",
      "    Rotational contrib to H                  0.889 [kcal/mol]        3.718 [kJ/mol]       0.00141628 [Eh]\n",
      "    Vibrational contrib to H                52.189 [kcal/mol]      218.357 [kJ/mol]       0.08316767 [Eh]\n",
      "  Correction H                              54.558 [kcal/mol]      228.273 [kJ/mol]       0.08694441 [Eh]\n",
      "  Total H, Enthalpy at  298.15 [K]                                                      -74.55991631 [Eh]\n",
      "  *** Absolute enthalpy, not an enthalpy of formation ***\n",
      "\n",
      "  Gibbs free energy, G = H - T * S\n",
      "    Electronic contrib to G beyond E_e       0.000 [kcal/mol]        0.000 [kJ/mol]       0.00000000 [Eh]\n",
      "    Translational contrib to G              -8.837 [kcal/mol]      -36.973 [kJ/mol]      -0.01408221 [Eh]\n",
      "    Rotational contrib to G                 -2.641 [kcal/mol]      -11.050 [kJ/mol]      -0.00420868 [Eh]\n",
      "    Vibrational contrib to G                52.189 [kcal/mol]      218.357 [kJ/mol]       0.08316767 [Eh]\n",
      "  Correction G                              40.711 [kcal/mol]      170.334 [kJ/mol]       0.06487678 [Eh]\n",
      "  Total G, Gibbs energy at  298.15 [K]                                                  -74.58198394 [Eh]\n",
      "  *** Absolute Gibbs energy, not a free energy of formation ***\n",
      "\n",
      "\n"
     ]
    }
   ],
   "source": [
    "rot_const = np.array([27.87700, 14.51200, 9.28500]) # From https://cccbdb.nist.gov/exp2x.asp?casno=7732185\n",
    "T =  298.15\n",
    "P = 101325\n",
    "#water_thermo_data = thermo_prop(Water_wfn2, Water_frequency, T, P, 18, 1, rot_const)\n",
    "data_output, lib = psi4.driver.qcdb.vib.thermo(Water_wfn2.frequency_analysis, E0=Water_frequency, T=T, P=P, sigma=1, molecular_mass=18, multiplicity=1, rot_const=rot_const)\n",
    "print(lib)\n",
    "#print(water_thermo_data)\n",
    "#Pressure = Pressure_Printer(water_thermo_data) # type: ignore\n",
    "#Water_mu = chemical_potential(water_thermo_data, T)\n",
    "#print(f\"The chemical potential of the system is: mu = {Water_mu}\")\n",
    "#print(Water_wfn.same_a_b_orbs())\n",
    "#Water_orbital_energies_alpha = Water_wfn.epsilon_a().nph\n",
    "#Water_Orbitals_alpha = Water_wfn.Ca()\n",
    "#print(Water_wfn.nalpha())\n",
    "#print(Water_wfn.nbeta())\n",
    "#print(Water_orbital_energies_alpha)\n",
    "#Water_Fermi_weights_alpha = calc_Fermi_weight(Water_orbital_energies_alpha, Water_mu, T)\n",
    "#print(Water_Fermi_weights_alpha)\n",
    "#frac_val_list_alpha = fermi_to_frac_val(Water_Fermi_weights_alpha) \n",
    "#print_big_info(Water_orbital_energies_alpha, Water_Fermi_weights_alpha, frac_val_list_alpha, False)  # type: ignore"
   ]
  },
  {
   "cell_type": "code",
   "execution_count": 18,
   "metadata": {},
   "outputs": [
    {
     "name": "stdout",
     "output_type": "stream",
     "text": [
      "Orbital energies for each KS State:\n",
      "State 1: [-18.56327173  -1.21534944  -0.70888333  -0.39420639  -0.33003178\n",
      "   0.04431892   0.12055983   0.38860236   0.4345112    0.48254053\n",
      "   0.59376704   0.6917343    0.70517838   0.70756885   0.84434705\n",
      "   0.85718749   1.18805452   1.49703379   1.70485838   1.72983466\n",
      "   1.76007676   1.82768931   1.83715156   2.32385411   2.88524194\n",
      "   2.96019818   2.987498     3.15292775   3.21632988   3.27490601\n",
      "   3.3727049    3.6440226    3.71580052   3.86017199   4.17492731\n",
      "   4.27126815   4.30000658   4.57353994   4.68133257   4.83004754\n",
      "   5.21218483   5.23546508   5.8556755    5.95424529   6.03080441\n",
      "   6.13017149   6.5578306    6.58586579   6.6580767    7.88535916\n",
      "   7.92033121   8.38505253   8.80062718   8.97304507   9.28582763\n",
      "   9.86135539  11.90871525  21.23220229] Hartree\n",
      "Fermi weightings for each KS state:\n",
      "State 1: f = [1. 1. 1. 1. 1. 1. 1. 1. 1. 1. 1. 1. 1. 1. 1. 1. 1. 1. 1. 1. 1. 1. 1. 1.\n",
      " 1. 1. 1. 1. 1. 1. 1. 1. 1. 1. 1. 1. 1. 1. 1. 1. 1. 1. 1. 1. 1. 1. 1. 1.\n",
      " 1. 1. 1. 1. 1. 1. 1. 1. 1. 1.]\n",
      "Fractional Occupation Values for state 1:\n",
      "  Orbital 1: 1.0\n",
      "  Orbital 2: 1.0\n",
      "  Orbital 3: 1.0\n",
      "  Orbital 4: 1.0\n",
      "  Orbital 5: 1.0\n",
      "  Orbital 6: 1.0\n",
      "  Orbital 7: 1.0\n",
      "  Orbital 8: 1.0\n",
      "  Orbital 9: 1.0\n",
      "  Orbital 10: 1.0\n",
      "  Orbital 11: 1.0\n",
      "  Orbital 12: 1.0\n",
      "  Orbital 13: 1.0\n",
      "  Orbital 14: 1.0\n",
      "  Orbital 15: 1.0\n",
      "  Orbital 16: 1.0\n",
      "  Orbital 17: 1.0\n",
      "  Orbital 18: 1.0\n",
      "  Orbital 19: 1.0\n",
      "  Orbital 20: 1.0\n",
      "  Orbital 21: 1.0\n",
      "  Orbital 22: 1.0\n",
      "  Orbital 23: 1.0\n",
      "  Orbital 24: 1.0\n",
      "  Orbital 25: 1.0\n",
      "  Orbital 26: 1.0\n",
      "  Orbital 27: 1.0\n",
      "  Orbital 28: 1.0\n",
      "  Orbital 29: 1.0\n",
      "  Orbital 30: 1.0\n",
      "  Orbital 31: 1.0\n",
      "  Orbital 32: 1.0\n",
      "  Orbital 33: 1.0\n",
      "  Orbital 34: 1.0\n",
      "  Orbital 35: 1.0\n",
      "  Orbital 36: 1.0\n",
      "  Orbital 37: 1.0\n",
      "  Orbital 38: 1.0\n",
      "  Orbital 39: 1.0\n",
      "  Orbital 40: 1.0\n",
      "  Orbital 41: 1.0\n",
      "  Orbital 42: 1.0\n",
      "  Orbital 43: 1.0\n",
      "  Orbital 44: 1.0\n",
      "  Orbital 45: 1.0\n",
      "  Orbital 46: 1.0\n",
      "  Orbital 47: 1.0\n",
      "  Orbital 48: 1.0\n",
      "  Orbital 49: 1.0\n",
      "  Orbital 50: 1.0\n",
      "  Orbital 51: 1.0\n",
      "  Orbital 52: 1.0\n",
      "  Orbital 53: 1.0\n",
      "  Orbital 54: 1.0\n",
      "  Orbital 55: 1.0\n",
      "  Orbital 56: 1.0\n",
      "  Orbital 57: 1.0\n",
      "  Orbital 58: 1.0\n"
     ]
    }
   ],
   "source": [
    "Water_orbital_energies_beta = Water_wfn.epsilon_b().nph\n",
    "#print(Water_orbital_energies_beta)\n",
    "Water_Fermi_weights_beta = calc_Fermi_weight(Water_orbital_energies_beta, Water_mu, T)\n",
    "frac_val_list_beta = fermi_to_frac_val(Water_Fermi_weights_beta) \n",
    "print_big_info(Water_orbital_energies_beta, Water_Fermi_weights_beta, frac_val_list_beta, True)  # type: ignore"
   ]
  },
  {
   "cell_type": "markdown",
   "metadata": {},
   "source": [
    "### Fractional Occupations for Water"
   ]
  },
  {
   "cell_type": "markdown",
   "metadata": {},
   "source": [
    "#### Manually trying new factional occupations"
   ]
  },
  {
   "cell_type": "code",
   "execution_count": 19,
   "metadata": {},
   "outputs": [
    {
     "name": "stdout",
     "output_type": "stream",
     "text": [
      "Fractional Occupation Occured occured. Energy is: -72.42397974849005\n",
      "Regular (non fractionally occupied) energy is; -74.64686072440647\n"
     ]
    }
   ],
   "source": [
    "#test_Occs = [+1, +2, -1, -2] \n",
    "#Test_values = [1, 1, 0.48111183, 0.46503572]\n",
    "# Last working set: 1 - 6 \n",
    "#test_Occs = [+1, +2, +3, +4, +5, +6, -1, -2, -3, -4, -5, -6] \n",
    "#Test_values = [1, 1, 1, 1, 1, 1, 0.48111183, 0.46503572, 0.4654729202742443, 0.4652103301619441, 0.46515678040514274, 0.46484442384199415]\n",
    "# Currently testing set: 3-8 \n",
    "# 8th is a virtual orbital I think \n",
    "test_Occs = [+3, +4, +5, +6, +7, +8, -3, -4, -5, -6, -7, -8] \n",
    "Test_values = [1, 1, 1, 1, 1, 1, 0.4654729202742443, 0.4652103301619441, 0.46515678040514274, 0.46484442384199415, 0.4647808121454412, 0.46455717961153353]\n",
    "#Three_Occs = [+1, +2, +3, -1, -2, -3] \n",
    "#Three_values = [1, 1, 1, 0.48111183, 0.46503572, 0.46347614]\n",
    "I_Fixed_it = True\n",
    "if I_Fixed_it == False:\n",
    "    raise Exception(\"There is an error in the way you are loading the new occupations and values\")\n",
    "if Water_testing == True:\n",
    "    FracOccOpts(True, False, True, test_Occs, Test_values) # type: ignore # In order to change from True to False you must restart the kernel\n",
    "    Water_Frac_Energy, Water_Frac_wfn = psi4.properties(\"svwn/cc-pvtz\", molecule=H2O, return_wfn=True) # type: ignore\n",
    "    #FracOccOpts(True, False, True, Three_Occs, Three_values) # In order to change from True to False you must restart the kernel\n",
    "    #Three_Water_Frac_Energy, Three_Water_Frac_wfn = psi4.properties(\"svwn/cc-pvtz\", molecule=H2O, return_wfn=True)\n",
    "    #Water_test_frequency, Water_wfn2 = psi4.frequency('scf', molecule = Molec, return_wfn = True)\n",
    "    #frequency, wfn2 = psi4.frequency('scf', molecule = F, return_wfn = True)\n",
    "    if Water_Frac_Energy == Water_frequency:\n",
    "        print(\"No Fractional Occupations were used. Energy is:\", Water_Frac_Energy) \n",
    "    else:\n",
    "        print(\"Fractional Occupation Occured occured. Energy is:\", Water_Frac_Energy)\n",
    "        print(f\"Regular (non fractionally occupied) energy is; {Water_frequency}\")"
   ]
  },
  {
   "cell_type": "markdown",
   "metadata": {},
   "source": [
    "#### Inverting Using Direct method"
   ]
  },
  {
   "cell_type": "code",
   "execution_count": 20,
   "metadata": {},
   "outputs": [],
   "source": [
    "Invert_Water = n2v.Inverter.from_wfn(Water_Frac_wfn)\n",
    "# Build 1D grid\n",
    "x = np.linspace(-3,5,801)\n",
    "y = [0]\n",
    "z = [0]\n",
    "grid, shape = Invert_Water.eng.grid.generate_grid(x,y,z)\n",
    "\n",
    "# Run the calculation with requested grid\n",
    "vxc_inverted_Water = Invert_Water.invert('direct', grid=grid, correction=False)\n",
    "vxc_inverted_corr_Water = Invert_Water.invert('direct', grid=grid, correction=True)\n",
    "#Compare the performance of direct and reversed calculation of vxc. \n",
    "vxc0_Water = Invert_Water.eng.grid.vxc(Da=Water_Frac_wfn.Da().np, Db=Water_Frac_wfn.Db().np, grid=grid) # type: ignore\n",
    "#Invert_Water.invert(\"mRKS\", vxc_grid=grid, opt_max_iter=30, frac_old=0.8, init=\"scan\", sing=(1e-7, 1e-4, 1e-7, 1e-4))"
   ]
  },
  {
   "cell_type": "code",
   "execution_count": 21,
   "metadata": {},
   "outputs": [
    {
     "data": {
      "image/png": "[encoded data removed]",
      "text/plain": [
       "<Figure size 1280x960 with 2 Axes>"
      ]
     },
     "metadata": {},
     "output_type": "display_data"
    }
   ],
   "source": [
    "fig, ax = plt.subplots(1, 2, dpi=200)\n",
    "#---------------> Data\n",
    "ax[0].plot(x, vxc0_Water, label=\"Forward DFT\")\n",
    "ax[0].plot(x, vxc_inverted_Water, label=\"Inverted DFT\")\n",
    "ax[1].plot(x, vxc0_Water, label=\"Forward DFT\")\n",
    "ax[1].plot(x, vxc_inverted_corr_Water, '--',label=\"Corrected Inverted DFT\")\n",
    "#---------------> Formatting\n",
    "#-------> Labels\n",
    "ax[0].set_xlabel('position')\n",
    "ax[0].set_ylabel('$v_{xc}$ (Ha)')\n",
    "ax[0].legend(loc='best', fontsize='x-small')\n",
    "ax[0].set_xlabel('position')\n",
    "ax[1].set_xlabel('position')\n",
    "ax[1].set_ylabel('$v_{xc}$ (Ha)')\n",
    "ax[1].legend(loc='best', fontsize='x-small')\n",
    "#-------> Titles\n",
    "ax[0].title.set_text('Water atom Vxc')\n",
    "ax[1].title.set_text('Water atom Vxc Corrected')\n",
    "#-------> Sizing\n",
    "ax[0].set_xlim(0.001,10)\n",
    "ax[0].set_ylim(-10, 1)\n",
    "#ax[1].set_xlim(0.001,10)\n",
    "#ax[1].set_ylim(-10, 1)\n",
    "#ax[0, 0].set_box_aspect(1)\n",
    "#ax[0, 1].set_box_aspect(1)\n",
    "#ax[1, 1].set_box_aspect(1)\n",
    "ax[0].set_xscale('log')\n",
    "ax[1].set_xscale('log')\n",
    "fig.tight_layout()\n",
    "#-------> Borders ## Have to run cell twice for this to work no idea why -- AO\n",
    "plt.rcParams[\"axes.edgecolor\"] = \"black\"\n",
    "plt.rcParams[\"axes.linewidth\"] = 1.00\n",
    "#fig.suptitle(\"Water Molecule Fractionally Occupied Direct Vxc\")"
   ]
  },
  {
   "cell_type": "markdown",
   "metadata": {},
   "source": [
    "#### Inverting using the Ou-Carter method"
   ]
  },
  {
   "cell_type": "code",
   "execution_count": 22,
   "metadata": {},
   "outputs": [],
   "source": [
    "if Do_Ou_Carter == True:\n",
    "    # Build the plotting grid for vxc:\n",
    "    x_OC = np.linspace(-5,5,1501) + 1e-7\n",
    "    y_OC = [0]\n",
    "    z_OC = [0]\n",
    "    grid_OC, shape_OC = Invert_Water.eng.grid.generate_grid(x_OC,y_OC,z_OC)\n",
    "    v_OC = Invert_Water.invert(\"OC\", vxc_grid=grid_OC, frac_old=0.9, init=\"SCAN\") #opt_max_iter=29, frac_old=0.9, init=\"SCAN\")\n",
    "    ## Turn grid into psi4 blocks:\n",
    "    #grid_info = Invert_Water.eng.grid.grid_to_blocks(grid)  # turing grid into psi4 block infomation\n",
    "    #grid_info[-1].set_pointers(Water_wfn.Da())\n",
    "\n",
    "    ## Get exact and effective external potential\n",
    "    #vext = Invert_Water.eng.grid.esp(grid=grid_info)[0]\n",
    "    #vext_eff = Invert_Water._get_optimized_external_potential(grid_info=grid_info,)[-1]\n",
    "    #---------------> Plot\n",
    "    fig, ax = plt.subplots(1, 1, dpi=200)\n",
    "    #---------------> Data\n",
    "\n",
    "    ax.axhline(y=0, ls='--', label='y=0')\n",
    "    ax.plot(x_OC, v_OC[0].T, label=\"$v_{xc}$\")  # type: ignore\n",
    "    #---------------> Formatting\n",
    "    #-------> Labels\n",
    "    ax.set_xlabel('Position')\n",
    "    ax.set_ylabel('$v_{ext}$ (Ha)')\n",
    "    ax.legend()\n",
    "    #-------> Titles\n",
    "    ax.title.set_text('Water (Fractionally occupied) $V_{xc}$ Ou_Carter Method')\n",
    "    #-------> Sizing\n",
    "    #ax.set_xlim(-5,5)\n",
    "    #ax.set_ylim(-30, 30)\n",
    "    # Log limits\n",
    "    ax.set_xlim(0.001,10)\n",
    "    ax.set_xscale('log')\n",
    "    fig.tight_layout()\n",
    "    #-------> Borders ## Have to run cell twice for this to work no idea why -- AO\n",
    "    plt.rcParams[\"axes.edgecolor\"] = \"black\"\n",
    "    plt.rcParams[\"axes.linewidth\"] = 1.00"
   ]
  },
  {
   "cell_type": "markdown",
   "metadata": {},
   "source": [
    "Inverting with Other methods seems unnecessary and we can not invert a uhf with mRKS"
   ]
  },
  {
   "cell_type": "markdown",
   "metadata": {},
   "source": [
    "### Testing Code on $NH_3$"
   ]
  },
  {
   "cell_type": "code",
   "execution_count": 23,
   "metadata": {},
   "outputs": [
    {
     "name": "stdout",
     "output_type": "stream",
     "text": [
      "Warning: thermodynamics relations excluded imaginary frequencies: ['10708.0738i' '10624.4800i' '10619.0403i' '9676.6927i' '9647.8339i'\n",
      " '9643.4786i']\n",
      "The total energy of the specified Ammonia molecule is: -52.629193859638214\n"
     ]
    }
   ],
   "source": [
    "FracOccOpts(False, False, False)  # type: ignore\n",
    "Molec, name = NH3, \"Ammonia\"\n",
    "Ammonia_Energy, Ammonia_wfn = psi4.energy(\"svwn/cc-pvtz\", molecule = Molec, return_wfn = True, write_orbitals=('test.dat', True)) # type: ignore\n",
    "Ammonia_frequency, Ammonia_wfn2 = psi4.frequency(\"svwn/cc-pvtz\", molecule = Molec, return_wfn = True)\n",
    "print(\"The total energy of the specified\", name, \"molecule is:\", Ammonia_Energy)\n",
    "# 9.44430\t9.44430\t6.19600"
   ]
  },
  {
   "cell_type": "code",
   "execution_count": 24,
   "metadata": {},
   "outputs": [
    {
     "ename": "TypeError",
     "evalue": "thermo_prop() missing 1 required positional argument: 'rotational_constants'",
     "output_type": "error",
     "traceback": [
      "\u001b[0;31m---------------------------------------------------------------------------\u001b[0m",
      "\u001b[0;31mTypeError\u001b[0m                                 Traceback (most recent call last)",
      "Cell \u001b[0;32mIn[24], line 4\u001b[0m\n\u001b[1;32m      2\u001b[0m T \u001b[38;5;241m=\u001b[39m  \u001b[38;5;241m298.15\u001b[39m\n\u001b[1;32m      3\u001b[0m P \u001b[38;5;241m=\u001b[39m \u001b[38;5;241m101325\u001b[39m\n\u001b[0;32m----> 4\u001b[0m Ammonia_thermo_data \u001b[38;5;241m=\u001b[39m \u001b[43mthermo_prop\u001b[49m\u001b[43m(\u001b[49m\u001b[43mAmmonia_wfn2\u001b[49m\u001b[43m,\u001b[49m\u001b[43m \u001b[49m\u001b[43mAmmonia_frequency\u001b[49m\u001b[43m,\u001b[49m\u001b[43m \u001b[49m\u001b[43mT\u001b[49m\u001b[43m,\u001b[49m\u001b[43m \u001b[49m\u001b[43mP\u001b[49m\u001b[43m,\u001b[49m\u001b[43m \u001b[49m\u001b[38;5;241;43m17\u001b[39;49m\u001b[43m,\u001b[49m\u001b[43m \u001b[49m\u001b[43mrot_const\u001b[49m\u001b[43m)\u001b[49m\n\u001b[1;32m      5\u001b[0m Ammonia_mu \u001b[38;5;241m=\u001b[39m chemical_potential(Ammonia_thermo_data, T)\n\u001b[1;32m      6\u001b[0m \u001b[38;5;28mprint\u001b[39m(\u001b[38;5;124mf\u001b[39m\u001b[38;5;124m\"\u001b[39m\u001b[38;5;124mThe chemical potential of the system is: mu = \u001b[39m\u001b[38;5;132;01m{\u001b[39;00mAmmonia_mu\u001b[38;5;132;01m}\u001b[39;00m\u001b[38;5;124m\"\u001b[39m)\n",
      "\u001b[0;31mTypeError\u001b[0m: thermo_prop() missing 1 required positional argument: 'rotational_constants'"
     ]
    }
   ],
   "source": [
    "rot_const = np.array([9.44430, 9.44430, 6.19600]) # From https://cccbdb.nist.gov/exp2x.asp?casno=7664417&charge=0\n",
    "T =  298.15\n",
    "P = 101325\n",
    "Ammonia_thermo_data = thermo_prop(Ammonia_wfn2, Ammonia_frequency, T, P, 17, rot_const)\n",
    "Ammonia_mu = chemical_potential(Ammonia_thermo_data, T)\n",
    "print(f\"The chemical potential of the system is: mu = {Ammonia_mu}\")\n",
    "#print(Water_wfn.same_a_b_orbs())\n",
    "Ammonia_orbital_energies_alpha = Ammonia_wfn.epsilon_a().nph\n",
    "print_orb_energies = False\n",
    "Ammonia_Fermi_weights_alpha = calc_Fermi_weight(Ammonia_orbital_energies_alpha, Ammonia_mu, T)\n",
    "frac_val_list_alpha = fermi_to_frac_val(Ammonia_Fermi_weights_alpha) \n",
    "#print_big_info(Ammonia_orbital_energies_alpha, Ammonia_Fermi_weights_alpha, frac_val_list_alpha, False)  # type: ignore"
   ]
  },
  {
   "cell_type": "markdown",
   "metadata": {},
   "source": [
    "### Testing code on $CH_4$"
   ]
  },
  {
   "cell_type": "code",
   "execution_count": null,
   "metadata": {},
   "outputs": [],
   "source": [
    "FracOccOpts(False, False, False) # type: ignore\n",
    "raise Exception(\"Convergence issue Please reevaluate me\")\n",
    "Molec, name = CH4, \"Methane\"\n",
    "Methane_energy, Methane_wfn = psi4.energy(\"svwn/cc-pvtz\", molecule = Molec, return_wfn = True, write_orbitals=('test.dat', True)) # type: ignore\n",
    "Methane_frequency, Methane_wfn2 = psi4.frequency(\"svwn/cc-pvtz\", molecule = Molec, return_wfn = True)\n",
    "print(\"The total energy of the specified\", name, \"molecule is:\", Methane_frequency)\n",
    "rot_const = np.array([5.24120, 5.24120, 5.24120]) #From https://cccbdb.nist.gov/expgeom2.asp?casno=74828&charge=0\n",
    "T =  298.15\n",
    "P = 101325\n",
    "Methane_thermo_data = thermo_prop(Methane_wfn2, Methane_frequency, T, P, 16, rot_const)\n",
    "Methane_mu = chemical_potential(Methane_thermo_data, T)\n",
    "print(f\"The chemical potential of the system is: mu = {Methane_mu}\")\n",
    "#print(\"These are not correct you need to update the rotational constants. Also make sure they are correct for all molecules\")\n",
    "Methane_orbital_energies = Methane_wfn.epsilon_a().nph\n",
    "Methane_Fermi_weights = calc_Fermi_weight(Methane_orbital_energies, Methane_mu, T)\n",
    "frac_val_list = fermi_to_frac_val(Methane_Fermi_weights)\n",
    "#print_big_info(Methane_orbital_energies, Methane_Fermi_weights, frac_val_list, False) #type: ignore"
   ]
  },
  {
   "cell_type": "code",
   "execution_count": null,
   "metadata": {},
   "outputs": [],
   "source": []
  },
  {
   "cell_type": "markdown",
   "metadata": {},
   "source": [
    "### Test for Graphite/Graphene cannot get scf to converge "
   ]
  },
  {
   "cell_type": "code",
   "execution_count": null,
   "metadata": {},
   "outputs": [],
   "source": [
    "#FracOccOpts(False, False)\n",
    "#Molec, name = CCCC, \"Graphite/Graphene\"\n",
    "#Energy_Graph, wfn_Graph = psi4.energy('scf', molecule = Molec, return_wfn = True, write_orbitals=('test.dat', True))\n",
    "#frequency_Graph, wfn2_Graph = psi4.frequency('scf', molecule = Molec, return_wfn = True)\n",
    "#print(\"The total energy of the specified\", name, \"molecule is:\", frequency_Graph)\n"
   ]
  }
 ],
 "metadata": {
  "kernelspec": {
   "display_name": "n2venv",
   "language": "python",
   "name": "python3"
  },
  "language_info": {
   "codemirror_mode": {
    "name": "ipython",
    "version": 3
   },
   "file_extension": ".py",
   "mimetype": "text/x-python",
   "name": "python",
   "nbconvert_exporter": "python",
   "pygments_lexer": "ipython3",
   "version": "3.12.4"
  }
 },
 "nbformat": 4,
 "nbformat_minor": 2
}
